{
 "cells": [
  {
   "cell_type": "markdown",
   "id": "e8f4f49f-38d9-4122-9d1d-27947bf97afe",
   "metadata": {},
   "source": [
    "# Microtrac S3500 Particle Size Analyzer\n",
    "This notebook shows how to read all the information from the data file exported by the Microtrac S3500 Particle Size Analyzer software using the class ``MicrotracS3500``"
   ]
  },
  {
   "cell_type": "code",
   "execution_count": 1,
   "id": "481a3005-1915-4b48-abec-a07b70124f25",
   "metadata": {},
   "outputs": [],
   "source": [
    "# Import Libraries\n",
    "import matplotlib.pyplot as plt\n",
    "from microtrac_s3500 import MicrotracS3500"
   ]
  },
  {
   "cell_type": "code",
   "execution_count": 2,
   "id": "6b484d44-d839-40de-afe9-122fddab4884",
   "metadata": {},
   "outputs": [],
   "source": [
    "microtracs3500_data_filename = \"MTData_25_6_2021_11_24_7.csv\""
   ]
  },
  {
   "cell_type": "code",
   "execution_count": 3,
   "id": "9439e7b4-7dba-40f0-91e2-ad6fff1ac71d",
   "metadata": {},
   "outputs": [],
   "source": [
    "mt = MicrotracS3500(microtracs3500_data_filename)"
   ]
  },
  {
   "cell_type": "markdown",
   "id": "3a387ae5-6b36-455d-92c5-fda587c01f9b",
   "metadata": {},
   "source": [
    "## Title and Sample Information"
   ]
  },
  {
   "cell_type": "code",
   "execution_count": 4,
   "id": "53b30406-85b1-4277-92b4-76cdb66c2075",
   "metadata": {},
   "outputs": [
    {
     "name": "stdout",
     "output_type": "stream",
     "text": [
      "Title is: Particle  Size  Analysis\n"
     ]
    }
   ],
   "source": [
    "print(f\"Title is: {mt.title}\")"
   ]
  },
  {
   "cell_type": "code",
   "execution_count": 5,
   "id": "73c6fc88-1801-49d2-a0ff-e2604f2f3673",
   "metadata": {},
   "outputs": [
    {
     "name": "stdout",
     "output_type": "stream",
     "text": [
      "ID 1 is: id_1\n"
     ]
    }
   ],
   "source": [
    "print(f\"ID 1 is: {mt.id_1}\")"
   ]
  },
  {
   "cell_type": "code",
   "execution_count": 6,
   "id": "91415611-4107-4ae9-9137-64fd1cdd05a2",
   "metadata": {},
   "outputs": [
    {
     "name": "stdout",
     "output_type": "stream",
     "text": [
      "ID 2 is: id_2\n"
     ]
    }
   ],
   "source": [
    "print(f\"ID 2 is: {mt.id_2}\")"
   ]
  },
  {
   "cell_type": "code",
   "execution_count": 7,
   "id": "4802374b-f47f-4f96-acb4-9cca48a403db",
   "metadata": {},
   "outputs": [
    {
     "name": "stdout",
     "output_type": "stream",
     "text": [
      "Date is: 6/25/2021\n"
     ]
    }
   ],
   "source": [
    "print(f\"Date is: {mt.date}\")"
   ]
  },
  {
   "cell_type": "code",
   "execution_count": 8,
   "id": "f76988e1-36e0-4fca-8157-f4a5de17962e",
   "metadata": {},
   "outputs": [
    {
     "name": "stdout",
     "output_type": "stream",
     "text": [
      "Database record number is: 1030\n"
     ]
    }
   ],
   "source": [
    "print(f\"Database record number is: {mt.db_rec}\")"
   ]
  },
  {
   "cell_type": "code",
   "execution_count": 9,
   "id": "e33d930b-e57c-4798-b4ee-7074a0ad758b",
   "metadata": {},
   "outputs": [
    {
     "name": "stdout",
     "output_type": "stream",
     "text": [
      "Database path is: C:\\Microtrac\\FLEX  11.1.0.8\\Databases\\Data.MDB\n"
     ]
    }
   ],
   "source": [
    "print(f\"Database path is: {mt.db_name}\")"
   ]
  },
  {
   "cell_type": "markdown",
   "id": "280ef852-8fb4-4b5c-9c32-2f1b467234a6",
   "metadata": {},
   "source": [
    "## Statistics"
   ]
  },
  {
   "cell_type": "markdown",
   "id": "9ba87ace-72a1-4f4b-b958-9a7840287ebf",
   "metadata": {},
   "source": [
    "### MV – Mean Volume Diameter - Mean Diameter\n",
    "in microns, of the Volume distribution—represents the center of gravity of the distribution. Implementation of the equation used to calculate MV will show it to be weighted (strongly influenced) by coarse particles. It is a type of \"average particle size.\""
   ]
  },
  {
   "cell_type": "code",
   "execution_count": 42,
   "id": "f71bd9c5-53e9-4c95-9226-1e99460902dc",
   "metadata": {},
   "outputs": [
    {
     "name": "stdout",
     "output_type": "stream",
     "text": [
      "Mean Diameter of Volume Distribution is :30.07 μm\n"
     ]
    }
   ],
   "source": [
    "print(f\"Mean Diameter of Volume Distribution is :{mt.mv} \\u03BCm\")"
   ]
  },
  {
   "cell_type": "markdown",
   "id": "cd46e398-291e-46ed-a301-339de1becfae",
   "metadata": {},
   "source": [
    "### MN – Mean Number Diameter - Mean Diameter\n",
    "in microns, of the Number distribution—is calculated using the volume distribution data and is weighted to the small particles. This type of “average particle size” is related to population"
   ]
  },
  {
   "cell_type": "code",
   "execution_count": 43,
   "id": "4e1c3ae5-dd9f-4c7c-a9f0-64164b209e73",
   "metadata": {},
   "outputs": [
    {
     "name": "stdout",
     "output_type": "stream",
     "text": [
      "Mean Diameter of Number Distribution is :2.635 μm\n"
     ]
    }
   ],
   "source": [
    "print(f\"Mean Diameter of Number Distribution is :{mt.mn} \\u03BCm\")"
   ]
  },
  {
   "cell_type": "markdown",
   "id": "9822ee6d-0f3b-454d-b18e-c7405fac58ed",
   "metadata": {},
   "source": [
    "### MA – Mean Area Diameter - Mean Diameter\n",
    "in microns, of the Area distribution—is calculated from the volume distribution. The area mean is a type of “average” that is less weighted than MV by the presence of coarse particles, and therefore shows smaller particle size. Mean diameter represents a particle surface measurement."
   ]
  },
  {
   "cell_type": "code",
   "execution_count": 48,
   "id": "c2f0d407-9c5d-4916-b86a-27f20ad41fc1",
   "metadata": {},
   "outputs": [
    {
     "name": "stdout",
     "output_type": "stream",
     "text": [
      "Mean Diameter of Area Distribution is :10.04 μm\n"
     ]
    }
   ],
   "source": [
    "print(f\"Mean Diameter of Area Distribution is :{mt.ma} \\u03BCm\")"
   ]
  },
  {
   "cell_type": "markdown",
   "id": "bc2bccab-70c1-4632-884c-333f99eda257",
   "metadata": {},
   "source": [
    "### $CS$ - Calculated Specific Surface Area (m<sup>2</sup>/cm<sup>3</sup>)\n",
    "provides an indication of specific surface area. The $CS$ computation assumes smooth, solid, spherical particles. It should not be interchanged with BET or other adsorption methods of surface area determination. Calculated specific surface area does not reflect porosity or unique topographic characteristics of particles."
   ]
  },
  {
   "cell_type": "code",
   "execution_count": 52,
   "id": "01e8e43a-b373-424c-892e-0e7b1ea5d14b",
   "metadata": {},
   "outputs": [
    {
     "name": "stdout",
     "output_type": "stream",
     "text": [
      "Calculated Specific Surface Area is :0.598 m²/cm³\n"
     ]
    }
   ],
   "source": [
    "print(f\"Calculated Specific Surface Area is :{mt.cs} m\\u00B2/cm\\u00B3\")"
   ]
  },
  {
   "cell_type": "markdown",
   "id": "76045d49-02b8-47f6-a1b0-1a4e1da4024d",
   "metadata": {},
   "source": [
    "### SD – Standard Deviation\n",
    "in microns—describes the width of the measured particle size distribution. It does not provide an indication of the statistical error about the mean of multiple measurements."
   ]
  },
  {
   "cell_type": "code",
   "execution_count": 47,
   "id": "4d75ed5f-19c8-4002-a92e-a3dba08d3244",
   "metadata": {},
   "outputs": [
    {
     "name": "stdout",
     "output_type": "stream",
     "text": [
      "Standard Deviation is :25.31 μm\n"
     ]
    }
   ],
   "source": [
    "print(f\"Standard Deviation is :{mt.sd} \\u03BCm\")"
   ]
  },
  {
   "cell_type": "markdown",
   "id": "255668fe-48bb-4815-85eb-b4bfd67944d1",
   "metadata": {},
   "source": [
    " ### Mz – Graphic Mean\n",
    " \n",
    " $\\dfrac{\\text{16}^{\\text{th}} + \\text{50}^{\\text{th}} + \\text{84}^{\\text{th}}}{3}$"
   ]
  },
  {
   "cell_type": "code",
   "execution_count": 15,
   "id": "b8580e3f-7391-448d-a1e1-01dd27285377",
   "metadata": {},
   "outputs": [
    {
     "name": "stdout",
     "output_type": "stream",
     "text": [
      "Particle Diameter is :26.05 μm\n"
     ]
    }
   ],
   "source": [
    "print(f\"Particle Diameter is :{mt.mz} \\u03BCm\")"
   ]
  },
  {
   "cell_type": "code",
   "execution_count": 16,
   "id": "48f457f3-8f7a-4e64-b9cf-0cf37bf042a1",
   "metadata": {},
   "outputs": [
    {
     "name": "stdout",
     "output_type": "stream",
     "text": [
      "Particle Diameter is :28.38 μm\n"
     ]
    }
   ],
   "source": [
    "print(f\"Particle Diameter is :{mt.si} \\u03BCm\")"
   ]
  },
  {
   "cell_type": "markdown",
   "id": "1e7d34d7-c573-4c9d-849e-1ef066c7bccc",
   "metadata": {},
   "source": [
    "### Ski - Graphic Skewness\n",
    "(((16th+84th – (2*50th)) / (2 * (84th – 16th))) +\n",
    " ((5th + 95th – (2 * 50th)) / (2 * (95th – 5th)))"
   ]
  },
  {
   "cell_type": "code",
   "execution_count": 17,
   "id": "bb0dc7c5-7afb-434c-9090-4c7ecd486d19",
   "metadata": {},
   "outputs": [
    {
     "name": "stdout",
     "output_type": "stream",
     "text": [
      "Particle Diameter is :0.676 μm\n"
     ]
    }
   ],
   "source": [
    "print(f\"Particle Diameter is :{mt.ski} \\u03BCm\")"
   ]
  },
  {
   "cell_type": "markdown",
   "id": "321c7fc5-06fd-4a17-a81f-681ea5779e9a",
   "metadata": {},
   "source": [
    "### Kg – Graphic Kurtosis\n",
    "(95th – 5th) / (2.44 * (75th – 25th))"
   ]
  },
  {
   "cell_type": "code",
   "execution_count": 18,
   "id": "aa43e48e-4d4a-4127-a991-a95faf083f3b",
   "metadata": {},
   "outputs": [
    {
     "name": "stdout",
     "output_type": "stream",
     "text": [
      "Particle Diameter is :1.454 μm\n"
     ]
    }
   ],
   "source": [
    "print(f\"Graphic Kurtosis is :{mt.kg} \\u03BCm\")"
   ]
  },
  {
   "cell_type": "markdown",
   "id": "9f8bbf62-369a-455b-91f0-b43e8aca7f7e",
   "metadata": {},
   "source": [
    "o SDg – Graphic Standard Deviation = ((84th – 16th) / 4) + ((95th – 5th) / 6.6)\n",
    "o \n"
   ]
  },
  {
   "cell_type": "markdown",
   "id": "6933903c-c2de-4846-97df-d4760c044e40",
   "metadata": {},
   "source": [
    "## Get Percentiles"
   ]
  },
  {
   "cell_type": "code",
   "execution_count": 19,
   "id": "c39eed53-7322-4889-8464-e58950662e60",
   "metadata": {},
   "outputs": [
    {
     "data": {
      "text/html": [
       "<div>\n",
       "<style scoped>\n",
       "    .dataframe tbody tr th:only-of-type {\n",
       "        vertical-align: middle;\n",
       "    }\n",
       "\n",
       "    .dataframe tbody tr th {\n",
       "        vertical-align: top;\n",
       "    }\n",
       "\n",
       "    .dataframe thead th {\n",
       "        text-align: right;\n",
       "    }\n",
       "</style>\n",
       "<table border=\"1\" class=\"dataframe\">\n",
       "  <thead>\n",
       "    <tr style=\"text-align: right;\">\n",
       "      <th></th>\n",
       "      <th>%Tile</th>\n",
       "      <th>Size(um)</th>\n",
       "    </tr>\n",
       "  </thead>\n",
       "  <tbody>\n",
       "    <tr>\n",
       "      <th>1</th>\n",
       "      <td>10.0</td>\n",
       "      <td>4.39</td>\n",
       "    </tr>\n",
       "    <tr>\n",
       "      <th>2</th>\n",
       "      <td>20.0</td>\n",
       "      <td>6.72</td>\n",
       "    </tr>\n",
       "    <tr>\n",
       "      <th>3</th>\n",
       "      <td>30.0</td>\n",
       "      <td>9.17</td>\n",
       "    </tr>\n",
       "    <tr>\n",
       "      <th>4</th>\n",
       "      <td>40.0</td>\n",
       "      <td>12.12</td>\n",
       "    </tr>\n",
       "    <tr>\n",
       "      <th>5</th>\n",
       "      <td>50.0</td>\n",
       "      <td>15.94</td>\n",
       "    </tr>\n",
       "    <tr>\n",
       "      <th>6</th>\n",
       "      <td>60.0</td>\n",
       "      <td>21.40</td>\n",
       "    </tr>\n",
       "    <tr>\n",
       "      <th>7</th>\n",
       "      <td>70.0</td>\n",
       "      <td>30.31</td>\n",
       "    </tr>\n",
       "    <tr>\n",
       "      <th>8</th>\n",
       "      <td>80.0</td>\n",
       "      <td>46.53</td>\n",
       "    </tr>\n",
       "    <tr>\n",
       "      <th>9</th>\n",
       "      <td>90.0</td>\n",
       "      <td>77.44</td>\n",
       "    </tr>\n",
       "  </tbody>\n",
       "</table>\n",
       "</div>"
      ],
      "text/plain": [
       "   %Tile  Size(um)\n",
       "1   10.0      4.39\n",
       "2   20.0      6.72\n",
       "3   30.0      9.17\n",
       "4   40.0     12.12\n",
       "5   50.0     15.94\n",
       "6   60.0     21.40\n",
       "7   70.0     30.31\n",
       "8   80.0     46.53\n",
       "9   90.0     77.44"
      ]
     },
     "execution_count": 19,
     "metadata": {},
     "output_type": "execute_result"
    }
   ],
   "source": [
    "mt.df_percentiles"
   ]
  },
  {
   "cell_type": "markdown",
   "id": "50d9534a-9ec7-4de3-8ea9-ee74a49d2442",
   "metadata": {},
   "source": [
    "## Get Particle Size Distribution\n",
    "Returns a pandas dataframe of the particle size distribution"
   ]
  },
  {
   "cell_type": "code",
   "execution_count": 20,
   "id": "62572cd4-a061-4794-96ec-4d7ada4f5bca",
   "metadata": {},
   "outputs": [
    {
     "data": {
      "text/html": [
       "<div>\n",
       "<style scoped>\n",
       "    .dataframe tbody tr th:only-of-type {\n",
       "        vertical-align: middle;\n",
       "    }\n",
       "\n",
       "    .dataframe tbody tr th {\n",
       "        vertical-align: top;\n",
       "    }\n",
       "\n",
       "    .dataframe thead th {\n",
       "        text-align: right;\n",
       "    }\n",
       "</style>\n",
       "<table border=\"1\" class=\"dataframe\">\n",
       "  <thead>\n",
       "    <tr style=\"text-align: right;\">\n",
       "      <th></th>\n",
       "      <th>Size(um)</th>\n",
       "      <th>%Chan</th>\n",
       "      <th>%Pass</th>\n",
       "    </tr>\n",
       "  </thead>\n",
       "  <tbody>\n",
       "    <tr>\n",
       "      <th>1</th>\n",
       "      <td>60.0</td>\n",
       "      <td>3.70</td>\n",
       "      <td>85.22</td>\n",
       "    </tr>\n",
       "    <tr>\n",
       "      <th>2</th>\n",
       "      <td>50.0</td>\n",
       "      <td>2.24</td>\n",
       "      <td>81.52</td>\n",
       "    </tr>\n",
       "    <tr>\n",
       "      <th>3</th>\n",
       "      <td>45.0</td>\n",
       "      <td>0.48</td>\n",
       "      <td>79.28</td>\n",
       "    </tr>\n",
       "    <tr>\n",
       "      <th>4</th>\n",
       "      <td>44.0</td>\n",
       "      <td>2.12</td>\n",
       "      <td>78.80</td>\n",
       "    </tr>\n",
       "    <tr>\n",
       "      <th>5</th>\n",
       "      <td>40.0</td>\n",
       "      <td>6.94</td>\n",
       "      <td>76.68</td>\n",
       "    </tr>\n",
       "    <tr>\n",
       "      <th>6</th>\n",
       "      <td>30.0</td>\n",
       "      <td>5.00</td>\n",
       "      <td>69.74</td>\n",
       "    </tr>\n",
       "    <tr>\n",
       "      <th>7</th>\n",
       "      <td>25.0</td>\n",
       "      <td>6.91</td>\n",
       "      <td>64.74</td>\n",
       "    </tr>\n",
       "    <tr>\n",
       "      <th>8</th>\n",
       "      <td>20.0</td>\n",
       "      <td>10.03</td>\n",
       "      <td>57.83</td>\n",
       "    </tr>\n",
       "    <tr>\n",
       "      <th>9</th>\n",
       "      <td>15.0</td>\n",
       "      <td>8.14</td>\n",
       "      <td>47.79</td>\n",
       "    </tr>\n",
       "    <tr>\n",
       "      <th>10</th>\n",
       "      <td>12.0</td>\n",
       "      <td>6.59</td>\n",
       "      <td>39.65</td>\n",
       "    </tr>\n",
       "    <tr>\n",
       "      <th>11</th>\n",
       "      <td>10.0</td>\n",
       "      <td>7.69</td>\n",
       "      <td>33.07</td>\n",
       "    </tr>\n",
       "    <tr>\n",
       "      <th>12</th>\n",
       "      <td>8.0</td>\n",
       "      <td>8.51</td>\n",
       "      <td>25.37</td>\n",
       "    </tr>\n",
       "    <tr>\n",
       "      <th>13</th>\n",
       "      <td>6.0</td>\n",
       "      <td>4.28</td>\n",
       "      <td>16.86</td>\n",
       "    </tr>\n",
       "    <tr>\n",
       "      <th>14</th>\n",
       "      <td>5.0</td>\n",
       "      <td>4.13</td>\n",
       "      <td>12.58</td>\n",
       "    </tr>\n",
       "    <tr>\n",
       "      <th>15</th>\n",
       "      <td>4.0</td>\n",
       "      <td>3.72</td>\n",
       "      <td>8.45</td>\n",
       "    </tr>\n",
       "    <tr>\n",
       "      <th>16</th>\n",
       "      <td>3.0</td>\n",
       "      <td>3.05</td>\n",
       "      <td>4.73</td>\n",
       "    </tr>\n",
       "    <tr>\n",
       "      <th>17</th>\n",
       "      <td>2.0</td>\n",
       "      <td>1.13</td>\n",
       "      <td>1.68</td>\n",
       "    </tr>\n",
       "    <tr>\n",
       "      <th>18</th>\n",
       "      <td>1.5</td>\n",
       "      <td>0.55</td>\n",
       "      <td>0.55</td>\n",
       "    </tr>\n",
       "    <tr>\n",
       "      <th>19</th>\n",
       "      <td>1.0</td>\n",
       "      <td>0.00</td>\n",
       "      <td>0.00</td>\n",
       "    </tr>\n",
       "  </tbody>\n",
       "</table>\n",
       "</div>"
      ],
      "text/plain": [
       "    Size(um)  %Chan  %Pass\n",
       "1       60.0   3.70  85.22\n",
       "2       50.0   2.24  81.52\n",
       "3       45.0   0.48  79.28\n",
       "4       44.0   2.12  78.80\n",
       "5       40.0   6.94  76.68\n",
       "6       30.0   5.00  69.74\n",
       "7       25.0   6.91  64.74\n",
       "8       20.0  10.03  57.83\n",
       "9       15.0   8.14  47.79\n",
       "10      12.0   6.59  39.65\n",
       "11      10.0   7.69  33.07\n",
       "12       8.0   8.51  25.37\n",
       "13       6.0   4.28  16.86\n",
       "14       5.0   4.13  12.58\n",
       "15       4.0   3.72   8.45\n",
       "16       3.0   3.05   4.73\n",
       "17       2.0   1.13   1.68\n",
       "18       1.5   0.55   0.55\n",
       "19       1.0   0.00   0.00"
      ]
     },
     "execution_count": 20,
     "metadata": {},
     "output_type": "execute_result"
    }
   ],
   "source": [
    "mt.psd"
   ]
  },
  {
   "cell_type": "markdown",
   "id": "c5038821-cd8c-48e9-8811-061869ad2537",
   "metadata": {},
   "source": [
    "## Plot of the Particle Size Distribution using Matplotlib"
   ]
  },
  {
   "cell_type": "code",
   "execution_count": 38,
   "id": "ccbba984-0fee-4604-ab4f-3550082d570c",
   "metadata": {},
   "outputs": [
    {
     "data": {
      "image/png": "[encoded data removed]",
      "text/plain": [
       "<Figure size 432x288 with 1 Axes>"
      ]
     },
     "metadata": {
      "needs_background": "light"
     },
     "output_type": "display_data"
    }
   ],
   "source": [
    "plt.plot(mt.psd[\"Size(um)\"], mt.psd[\"%Pass\"], \"-og\")\n",
    "plt.title(\"Particle Size Distribution\")\n",
    "plt.xlabel(\"Particle Size (\\u03BCm)\")\n",
    "plt.ylabel(\"Cumulative Undersize (%)\")\n",
    "plt.grid(visible=True)\n",
    "plt.show()\n"
   ]
  },
  {
   "cell_type": "code",
   "execution_count": 39,
   "id": "00880212-635a-45d3-8f5b-45179588dbde",
   "metadata": {},
   "outputs": [
    {
     "data": {
      "image/png": "[encoded data removed]",
      "text/plain": [
       "<Figure size 432x288 with 1 Axes>"
      ]
     },
     "metadata": {
      "needs_background": "light"
     },
     "output_type": "display_data"
    }
   ],
   "source": [
    "plt.bar(mt.psd[\"Size(um)\"], mt.psd[\"%Chan\"])\n",
    "plt.title(\"Particle Size Distribution\")\n",
    "plt.xlabel(\"Particle Size (\\u03BCm)\")\n",
    "plt.ylabel(\"Frequency (%)\")\n",
    "plt.grid(visible=True)\n",
    "plt.show()\n"
   ]
  },
  {
   "cell_type": "markdown",
   "id": "03000f76-21b9-44a3-bd2d-a351fcb30a89",
   "metadata": {},
   "source": [
    "## References\n",
    "1. Microtrac FLEX Software Operations Manual, Microtrac Inc."
   ]
  }
 ],
 "metadata": {
  "kernelspec": {
   "display_name": "Python 3 (ipykernel)",
   "language": "python",
   "name": "python3"
  },
  "language_info": {
   "codemirror_mode": {
    "name": "ipython",
    "version": 3
   },
   "file_extension": ".py",
   "mimetype": "text/x-python",
   "name": "python",
   "nbconvert_exporter": "python",
   "pygments_lexer": "ipython3",
   "version": "3.9.7"
  }
 },
 "nbformat": 4,
 "nbformat_minor": 5
}
