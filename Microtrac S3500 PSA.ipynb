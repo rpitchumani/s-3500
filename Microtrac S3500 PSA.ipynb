{
 "cells": [
  {
   "cell_type": "markdown",
   "id": "e8f4f49f-38d9-4122-9d1d-27947bf97afe",
   "metadata": {},
   "source": [
    "# Microtrac S3500 Particle Size Analyzer\n",
    "This notebook shows how to read all the information from the data file exported by the Microtrac S3500 Particle Size Analyzer software using the class ``MicrotracS3500``"
   ]
  },
  {
   "cell_type": "code",
   "execution_count": 1,
   "id": "481a3005-1915-4b48-abec-a07b70124f25",
   "metadata": {},
   "outputs": [],
   "source": [
    "# Import Libraries\n",
    "from microtrac_s3500 import MicrotracS3500"
   ]
  },
  {
   "cell_type": "code",
   "execution_count": 2,
   "id": "6b484d44-d839-40de-afe9-122fddab4884",
   "metadata": {},
   "outputs": [],
   "source": [
    "microtracs3500_data_filename = \"MTData_25_6_2021_11_24_7.csv\""
   ]
  },
  {
   "cell_type": "code",
   "execution_count": 3,
   "id": "9439e7b4-7dba-40f0-91e2-ad6fff1ac71d",
   "metadata": {},
   "outputs": [],
   "source": [
    "mt = MicrotracS3500(microtracs3500_data_filename)"
   ]
  },
  {
   "cell_type": "markdown",
   "id": "3a387ae5-6b36-455d-92c5-fda587c01f9b",
   "metadata": {},
   "source": [
    "## Title and Sample Information"
   ]
  },
  {
   "cell_type": "code",
   "execution_count": 4,
   "id": "53b30406-85b1-4277-92b4-76cdb66c2075",
   "metadata": {},
   "outputs": [
    {
     "data": {
      "text/plain": [
       "' Particle  Size  Analysis '"
      ]
     },
     "execution_count": 4,
     "metadata": {},
     "output_type": "execute_result"
    }
   ],
   "source": [
    "mt.title"
   ]
  },
  {
   "cell_type": "code",
   "execution_count": 5,
   "id": "73c6fc88-1801-49d2-a0ff-e2604f2f3673",
   "metadata": {},
   "outputs": [
    {
     "data": {
      "text/plain": [
       "' id_1 '"
      ]
     },
     "execution_count": 5,
     "metadata": {},
     "output_type": "execute_result"
    }
   ],
   "source": [
    "mt.id_1"
   ]
  },
  {
   "cell_type": "code",
   "execution_count": 6,
   "id": "91415611-4107-4ae9-9137-64fd1cdd05a2",
   "metadata": {},
   "outputs": [
    {
     "data": {
      "text/plain": [
       "' id_2 '"
      ]
     },
     "execution_count": 6,
     "metadata": {},
     "output_type": "execute_result"
    }
   ],
   "source": [
    "mt.id_2"
   ]
  },
  {
   "cell_type": "code",
   "execution_count": 7,
   "id": "4802374b-f47f-4f96-acb4-9cca48a403db",
   "metadata": {},
   "outputs": [
    {
     "data": {
      "text/plain": [
       "'6/25/2021'"
      ]
     },
     "execution_count": 7,
     "metadata": {},
     "output_type": "execute_result"
    }
   ],
   "source": [
    "mt.date"
   ]
  },
  {
   "cell_type": "code",
   "execution_count": 8,
   "id": "f76988e1-36e0-4fca-8157-f4a5de17962e",
   "metadata": {},
   "outputs": [
    {
     "data": {
      "text/plain": [
       "'1030'"
      ]
     },
     "execution_count": 8,
     "metadata": {},
     "output_type": "execute_result"
    }
   ],
   "source": [
    "mt.db_rec"
   ]
  },
  {
   "cell_type": "code",
   "execution_count": 9,
   "id": "e33d930b-e57c-4798-b4ee-7074a0ad758b",
   "metadata": {},
   "outputs": [
    {
     "data": {
      "text/plain": [
       "' C:\\\\Microtrac\\\\FLEX  11.1.0.8\\\\Databases\\\\Data.MDB '"
      ]
     },
     "execution_count": 9,
     "metadata": {},
     "output_type": "execute_result"
    }
   ],
   "source": [
    "mt.db_name"
   ]
  },
  {
   "cell_type": "markdown",
   "id": "6933903c-c2de-4846-97df-d4760c044e40",
   "metadata": {},
   "source": [
    "## Get Percentiles"
   ]
  },
  {
   "cell_type": "code",
   "execution_count": 10,
   "id": "c39eed53-7322-4889-8464-e58950662e60",
   "metadata": {},
   "outputs": [
    {
     "data": {
      "text/html": [
       "<div>\n",
       "<style scoped>\n",
       "    .dataframe tbody tr th:only-of-type {\n",
       "        vertical-align: middle;\n",
       "    }\n",
       "\n",
       "    .dataframe tbody tr th {\n",
       "        vertical-align: top;\n",
       "    }\n",
       "\n",
       "    .dataframe thead th {\n",
       "        text-align: right;\n",
       "    }\n",
       "</style>\n",
       "<table border=\"1\" class=\"dataframe\">\n",
       "  <thead>\n",
       "    <tr style=\"text-align: right;\">\n",
       "      <th></th>\n",
       "      <th>%Tile</th>\n",
       "      <th>Size(um)</th>\n",
       "    </tr>\n",
       "  </thead>\n",
       "  <tbody>\n",
       "    <tr>\n",
       "      <th>1</th>\n",
       "      <td>10</td>\n",
       "      <td>4.39</td>\n",
       "    </tr>\n",
       "    <tr>\n",
       "      <th>2</th>\n",
       "      <td>20</td>\n",
       "      <td>6.72</td>\n",
       "    </tr>\n",
       "    <tr>\n",
       "      <th>3</th>\n",
       "      <td>30</td>\n",
       "      <td>9.17</td>\n",
       "    </tr>\n",
       "    <tr>\n",
       "      <th>4</th>\n",
       "      <td>40</td>\n",
       "      <td>12.12</td>\n",
       "    </tr>\n",
       "    <tr>\n",
       "      <th>5</th>\n",
       "      <td>50</td>\n",
       "      <td>15.94</td>\n",
       "    </tr>\n",
       "    <tr>\n",
       "      <th>6</th>\n",
       "      <td>60</td>\n",
       "      <td>21.4</td>\n",
       "    </tr>\n",
       "    <tr>\n",
       "      <th>7</th>\n",
       "      <td>70</td>\n",
       "      <td>30.31</td>\n",
       "    </tr>\n",
       "    <tr>\n",
       "      <th>8</th>\n",
       "      <td>80</td>\n",
       "      <td>46.53</td>\n",
       "    </tr>\n",
       "    <tr>\n",
       "      <th>9</th>\n",
       "      <td>90</td>\n",
       "      <td>77.44</td>\n",
       "    </tr>\n",
       "  </tbody>\n",
       "</table>\n",
       "</div>"
      ],
      "text/plain": [
       "  %Tile Size(um)\n",
       "1    10     4.39\n",
       "2    20     6.72\n",
       "3    30     9.17\n",
       "4    40    12.12\n",
       "5    50    15.94\n",
       "6    60     21.4\n",
       "7    70    30.31\n",
       "8    80    46.53\n",
       "9    90    77.44"
      ]
     },
     "execution_count": 10,
     "metadata": {},
     "output_type": "execute_result"
    }
   ],
   "source": [
    "mt.df_percentiles"
   ]
  },
  {
   "cell_type": "markdown",
   "id": "50d9534a-9ec7-4de3-8ea9-ee74a49d2442",
   "metadata": {},
   "source": [
    "## Get Particle Size Distribution\n",
    "Returns a pandas dataframe"
   ]
  },
  {
   "cell_type": "code",
   "execution_count": 11,
   "id": "62572cd4-a061-4794-96ec-4d7ada4f5bca",
   "metadata": {},
   "outputs": [
    {
     "data": {
      "text/html": [
       "<div>\n",
       "<style scoped>\n",
       "    .dataframe tbody tr th:only-of-type {\n",
       "        vertical-align: middle;\n",
       "    }\n",
       "\n",
       "    .dataframe tbody tr th {\n",
       "        vertical-align: top;\n",
       "    }\n",
       "\n",
       "    .dataframe thead th {\n",
       "        text-align: right;\n",
       "    }\n",
       "</style>\n",
       "<table border=\"1\" class=\"dataframe\">\n",
       "  <thead>\n",
       "    <tr style=\"text-align: right;\">\n",
       "      <th></th>\n",
       "      <th>Size(um)</th>\n",
       "      <th>%Chan</th>\n",
       "      <th>%  Pass</th>\n",
       "    </tr>\n",
       "  </thead>\n",
       "  <tbody>\n",
       "    <tr>\n",
       "      <th>1</th>\n",
       "      <td>60</td>\n",
       "      <td>3.7</td>\n",
       "      <td>85.22</td>\n",
       "    </tr>\n",
       "    <tr>\n",
       "      <th>2</th>\n",
       "      <td>50</td>\n",
       "      <td>2.24</td>\n",
       "      <td>81.52</td>\n",
       "    </tr>\n",
       "    <tr>\n",
       "      <th>3</th>\n",
       "      <td>45</td>\n",
       "      <td>0.48</td>\n",
       "      <td>79.28</td>\n",
       "    </tr>\n",
       "    <tr>\n",
       "      <th>4</th>\n",
       "      <td>44</td>\n",
       "      <td>2.12</td>\n",
       "      <td>78.8</td>\n",
       "    </tr>\n",
       "    <tr>\n",
       "      <th>5</th>\n",
       "      <td>40</td>\n",
       "      <td>6.94</td>\n",
       "      <td>76.68</td>\n",
       "    </tr>\n",
       "    <tr>\n",
       "      <th>6</th>\n",
       "      <td>30</td>\n",
       "      <td>5</td>\n",
       "      <td>69.74</td>\n",
       "    </tr>\n",
       "    <tr>\n",
       "      <th>7</th>\n",
       "      <td>25</td>\n",
       "      <td>6.91</td>\n",
       "      <td>64.74</td>\n",
       "    </tr>\n",
       "    <tr>\n",
       "      <th>8</th>\n",
       "      <td>20</td>\n",
       "      <td>10.03</td>\n",
       "      <td>57.83</td>\n",
       "    </tr>\n",
       "    <tr>\n",
       "      <th>9</th>\n",
       "      <td>15</td>\n",
       "      <td>8.14</td>\n",
       "      <td>47.79</td>\n",
       "    </tr>\n",
       "    <tr>\n",
       "      <th>10</th>\n",
       "      <td>12</td>\n",
       "      <td>6.59</td>\n",
       "      <td>39.65</td>\n",
       "    </tr>\n",
       "    <tr>\n",
       "      <th>11</th>\n",
       "      <td>10</td>\n",
       "      <td>7.69</td>\n",
       "      <td>33.07</td>\n",
       "    </tr>\n",
       "    <tr>\n",
       "      <th>12</th>\n",
       "      <td>8</td>\n",
       "      <td>8.51</td>\n",
       "      <td>25.37</td>\n",
       "    </tr>\n",
       "    <tr>\n",
       "      <th>13</th>\n",
       "      <td>6</td>\n",
       "      <td>4.28</td>\n",
       "      <td>16.86</td>\n",
       "    </tr>\n",
       "    <tr>\n",
       "      <th>14</th>\n",
       "      <td>5</td>\n",
       "      <td>4.13</td>\n",
       "      <td>12.58</td>\n",
       "    </tr>\n",
       "    <tr>\n",
       "      <th>15</th>\n",
       "      <td>4</td>\n",
       "      <td>3.72</td>\n",
       "      <td>8.45</td>\n",
       "    </tr>\n",
       "    <tr>\n",
       "      <th>16</th>\n",
       "      <td>3</td>\n",
       "      <td>3.05</td>\n",
       "      <td>4.73</td>\n",
       "    </tr>\n",
       "    <tr>\n",
       "      <th>17</th>\n",
       "      <td>2</td>\n",
       "      <td>1.13</td>\n",
       "      <td>1.68</td>\n",
       "    </tr>\n",
       "    <tr>\n",
       "      <th>18</th>\n",
       "      <td>1.5</td>\n",
       "      <td>0.55</td>\n",
       "      <td>0.55</td>\n",
       "    </tr>\n",
       "    <tr>\n",
       "      <th>19</th>\n",
       "      <td>1</td>\n",
       "      <td>0</td>\n",
       "      <td>0</td>\n",
       "    </tr>\n",
       "  </tbody>\n",
       "</table>\n",
       "</div>"
      ],
      "text/plain": [
       "   Size(um)  %Chan  %  Pass \n",
       "1        60    3.7     85.22\n",
       "2        50   2.24     81.52\n",
       "3        45   0.48     79.28\n",
       "4        44   2.12      78.8\n",
       "5        40   6.94     76.68\n",
       "6        30      5     69.74\n",
       "7        25   6.91     64.74\n",
       "8        20  10.03     57.83\n",
       "9        15   8.14     47.79\n",
       "10       12   6.59     39.65\n",
       "11       10   7.69     33.07\n",
       "12        8   8.51     25.37\n",
       "13        6   4.28     16.86\n",
       "14        5   4.13     12.58\n",
       "15        4   3.72      8.45\n",
       "16        3   3.05      4.73\n",
       "17        2   1.13      1.68\n",
       "18      1.5   0.55      0.55\n",
       "19        1      0         0"
      ]
     },
     "execution_count": 11,
     "metadata": {},
     "output_type": "execute_result"
    }
   ],
   "source": [
    "mt.psd"
   ]
  },
  {
   "cell_type": "code",
   "execution_count": null,
   "id": "00880212-635a-45d3-8f5b-45179588dbde",
   "metadata": {},
   "outputs": [],
   "source": []
  }
 ],
 "metadata": {
  "kernelspec": {
   "display_name": "Python 3 (ipykernel)",
   "language": "python",
   "name": "python3"
  },
  "language_info": {
   "codemirror_mode": {
    "name": "ipython",
    "version": 3
   },
   "file_extension": ".py",
   "mimetype": "text/x-python",
   "name": "python",
   "nbconvert_exporter": "python",
   "pygments_lexer": "ipython3",
   "version": "3.9.7"
  }
 },
 "nbformat": 4,
 "nbformat_minor": 5
}
